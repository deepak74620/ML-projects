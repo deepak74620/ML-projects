{
 "cells": [
  {
   "cell_type": "code",
   "execution_count": 1,
   "id": "119efd37",
   "metadata": {
    "_cell_guid": "b1076dfc-b9ad-4769-8c92-a6c4dae69d19",
    "_uuid": "8f2839f25d086af736a60e9eeb907d3b93b6e0e5",
    "execution": {
     "iopub.execute_input": "2023-07-04T20:21:03.220968Z",
     "iopub.status.busy": "2023-07-04T20:21:03.220086Z",
     "iopub.status.idle": "2023-07-04T20:21:03.233223Z",
     "shell.execute_reply": "2023-07-04T20:21:03.231745Z"
    },
    "papermill": {
     "duration": 0.021632,
     "end_time": "2023-07-04T20:21:03.235820",
     "exception": false,
     "start_time": "2023-07-04T20:21:03.214188",
     "status": "completed"
    },
    "tags": []
   },
   "outputs": [
    {
     "name": "stdout",
     "output_type": "stream",
     "text": [
      "/kaggle/input/titanic/train.csv\n",
      "/kaggle/input/titanic/test.csv\n",
      "/kaggle/input/titanic/gender_submission.csv\n"
     ]
    }
   ],
   "source": [
    "# This Python 3 environment comes with many helpful analytics libraries installed\n",
    "# It is defined by the kaggle/python Docker image: https://github.com/kaggle/docker-python\n",
    "# For example, here's several helpful packages to load\n",
    "\n",
    "import numpy as np # linear algebra\n",
    "import pandas as pd # data processing, CSV file I/O (e.g. pd.read_csv)\n",
    "\n",
    "# Input data files are available in the read-only \"../input/\" directory\n",
    "# For example, running this (by clicking run or pressing Shift+Enter) will list all files under the input directory\n",
    "\n",
    "import os\n",
    "for dirname, _, filenames in os.walk('/kaggle/input'):\n",
    "    for filename in filenames:\n",
    "        print(os.path.join(dirname, filename))\n",
    "\n",
    "# You can write up to 20GB to the current directory (/kaggle/working/) that gets preserved as output when you create a version using \"Save & Run All\" \n",
    "# You can also write temporary files to /kaggle/temp/, but they won't be saved outside of the current session"
   ]
  },
  {
   "cell_type": "code",
   "execution_count": 2,
   "id": "1ee59f0e",
   "metadata": {
    "execution": {
     "iopub.execute_input": "2023-07-04T20:21:03.245301Z",
     "iopub.status.busy": "2023-07-04T20:21:03.244948Z",
     "iopub.status.idle": "2023-07-04T20:21:03.249631Z",
     "shell.execute_reply": "2023-07-04T20:21:03.248532Z"
    },
    "papermill": {
     "duration": 0.011645,
     "end_time": "2023-07-04T20:21:03.251672",
     "exception": false,
     "start_time": "2023-07-04T20:21:03.240027",
     "status": "completed"
    },
    "tags": []
   },
   "outputs": [],
   "source": [
    "import numpy as np\n",
    "import matplotlib.pyplot as plt\n",
    "import pandas as pd"
   ]
  },
  {
   "cell_type": "code",
   "execution_count": 3,
   "id": "846536b4",
   "metadata": {
    "execution": {
     "iopub.execute_input": "2023-07-04T20:21:03.260681Z",
     "iopub.status.busy": "2023-07-04T20:21:03.260345Z",
     "iopub.status.idle": "2023-07-04T20:21:03.295809Z",
     "shell.execute_reply": "2023-07-04T20:21:03.294766Z"
    },
    "papermill": {
     "duration": 0.042986,
     "end_time": "2023-07-04T20:21:03.298413",
     "exception": false,
     "start_time": "2023-07-04T20:21:03.255427",
     "status": "completed"
    },
    "tags": []
   },
   "outputs": [],
   "source": [
    "train = pd.read_csv('/kaggle/input/titanic/train.csv')\n",
    "test = pd.read_csv('/kaggle/input/titanic/test.csv')"
   ]
  },
  {
   "cell_type": "code",
   "execution_count": 4,
   "id": "8bb19b93",
   "metadata": {
    "execution": {
     "iopub.execute_input": "2023-07-04T20:21:03.307804Z",
     "iopub.status.busy": "2023-07-04T20:21:03.307391Z",
     "iopub.status.idle": "2023-07-04T20:21:03.343254Z",
     "shell.execute_reply": "2023-07-04T20:21:03.341939Z"
    },
    "papermill": {
     "duration": 0.043244,
     "end_time": "2023-07-04T20:21:03.345558",
     "exception": false,
     "start_time": "2023-07-04T20:21:03.302314",
     "status": "completed"
    },
    "tags": []
   },
   "outputs": [
    {
     "name": "stdout",
     "output_type": "stream",
     "text": [
      "<class 'pandas.core.frame.DataFrame'>\n",
      "RangeIndex: 891 entries, 0 to 890\n",
      "Data columns (total 12 columns):\n",
      " #   Column       Non-Null Count  Dtype  \n",
      "---  ------       --------------  -----  \n",
      " 0   PassengerId  891 non-null    int64  \n",
      " 1   Survived     891 non-null    int64  \n",
      " 2   Pclass       891 non-null    int64  \n",
      " 3   Name         891 non-null    object \n",
      " 4   Sex          891 non-null    object \n",
      " 5   Age          714 non-null    float64\n",
      " 6   SibSp        891 non-null    int64  \n",
      " 7   Parch        891 non-null    int64  \n",
      " 8   Ticket       891 non-null    object \n",
      " 9   Fare         891 non-null    float64\n",
      " 10  Cabin        204 non-null    object \n",
      " 11  Embarked     889 non-null    object \n",
      "dtypes: float64(2), int64(5), object(5)\n",
      "memory usage: 83.7+ KB\n",
      "<class 'pandas.core.frame.DataFrame'>\n",
      "RangeIndex: 418 entries, 0 to 417\n",
      "Data columns (total 11 columns):\n",
      " #   Column       Non-Null Count  Dtype  \n",
      "---  ------       --------------  -----  \n",
      " 0   PassengerId  418 non-null    int64  \n",
      " 1   Pclass       418 non-null    int64  \n",
      " 2   Name         418 non-null    object \n",
      " 3   Sex          418 non-null    object \n",
      " 4   Age          332 non-null    float64\n",
      " 5   SibSp        418 non-null    int64  \n",
      " 6   Parch        418 non-null    int64  \n",
      " 7   Ticket       418 non-null    object \n",
      " 8   Fare         417 non-null    float64\n",
      " 9   Cabin        91 non-null     object \n",
      " 10  Embarked     418 non-null    object \n",
      "dtypes: float64(2), int64(4), object(5)\n",
      "memory usage: 36.0+ KB\n"
     ]
    }
   ],
   "source": [
    "train.info()\n",
    "test.info()"
   ]
  },
  {
   "cell_type": "code",
   "execution_count": 5,
   "id": "455aefe8",
   "metadata": {
    "execution": {
     "iopub.execute_input": "2023-07-04T20:21:03.355425Z",
     "iopub.status.busy": "2023-07-04T20:21:03.354616Z",
     "iopub.status.idle": "2023-07-04T20:21:03.365673Z",
     "shell.execute_reply": "2023-07-04T20:21:03.364501Z"
    },
    "papermill": {
     "duration": 0.018493,
     "end_time": "2023-07-04T20:21:03.368050",
     "exception": false,
     "start_time": "2023-07-04T20:21:03.349557",
     "status": "completed"
    },
    "tags": []
   },
   "outputs": [],
   "source": [
    "train.drop(['Name','Age','Ticket','Fare','Cabin'], inplace = True , axis=1)\n",
    "test.drop(['Name','Age','Ticket','Fare','Cabin'], inplace = True , axis=1)"
   ]
  },
  {
   "cell_type": "code",
   "execution_count": 6,
   "id": "f2a764b9",
   "metadata": {
    "execution": {
     "iopub.execute_input": "2023-07-04T20:21:03.378063Z",
     "iopub.status.busy": "2023-07-04T20:21:03.377635Z",
     "iopub.status.idle": "2023-07-04T20:21:03.385315Z",
     "shell.execute_reply": "2023-07-04T20:21:03.384173Z"
    },
    "papermill": {
     "duration": 0.015424,
     "end_time": "2023-07-04T20:21:03.387665",
     "exception": false,
     "start_time": "2023-07-04T20:21:03.372241",
     "status": "completed"
    },
    "tags": []
   },
   "outputs": [],
   "source": [
    "data =[train,test]\n",
    "for dataset in data:\n",
    "  dataset.Embarked=dataset.Embarked.fillna('S')"
   ]
  },
  {
   "cell_type": "code",
   "execution_count": 7,
   "id": "3edb9c63",
   "metadata": {
    "execution": {
     "iopub.execute_input": "2023-07-04T20:21:03.397475Z",
     "iopub.status.busy": "2023-07-04T20:21:03.397114Z",
     "iopub.status.idle": "2023-07-04T20:21:03.403903Z",
     "shell.execute_reply": "2023-07-04T20:21:03.402668Z"
    },
    "papermill": {
     "duration": 0.014333,
     "end_time": "2023-07-04T20:21:03.406150",
     "exception": false,
     "start_time": "2023-07-04T20:21:03.391817",
     "status": "completed"
    },
    "tags": []
   },
   "outputs": [],
   "source": [
    "X_train = train.drop(['PassengerId','Survived'],axis=1)\n",
    "y_train = train['Survived']\n",
    "X_test = test.drop(['PassengerId'],axis=1)"
   ]
  },
  {
   "cell_type": "code",
   "execution_count": 8,
   "id": "36132d60",
   "metadata": {
    "execution": {
     "iopub.execute_input": "2023-07-04T20:21:03.417255Z",
     "iopub.status.busy": "2023-07-04T20:21:03.416906Z",
     "iopub.status.idle": "2023-07-04T20:21:04.735356Z",
     "shell.execute_reply": "2023-07-04T20:21:04.734237Z"
    },
    "papermill": {
     "duration": 1.327878,
     "end_time": "2023-07-04T20:21:04.737965",
     "exception": false,
     "start_time": "2023-07-04T20:21:03.410087",
     "status": "completed"
    },
    "tags": []
   },
   "outputs": [],
   "source": [
    "from sklearn.compose import ColumnTransformer\n",
    "from sklearn.preprocessing import OneHotEncoder\n",
    "\n",
    "ct = ColumnTransformer(transformers=[('encoder', OneHotEncoder(), ['Sex', 'Embarked'])], remainder='passthrough')\n",
    "X_train = np.array(ct.fit_transform(X_train))\n"
   ]
  },
  {
   "cell_type": "code",
   "execution_count": 9,
   "id": "dbe62870",
   "metadata": {
    "execution": {
     "iopub.execute_input": "2023-07-04T20:21:04.747942Z",
     "iopub.status.busy": "2023-07-04T20:21:04.746980Z",
     "iopub.status.idle": "2023-07-04T20:21:04.757970Z",
     "shell.execute_reply": "2023-07-04T20:21:04.756867Z"
    },
    "papermill": {
     "duration": 0.018575,
     "end_time": "2023-07-04T20:21:04.760509",
     "exception": false,
     "start_time": "2023-07-04T20:21:04.741934",
     "status": "completed"
    },
    "tags": []
   },
   "outputs": [],
   "source": [
    "from sklearn.compose import ColumnTransformer\n",
    "from sklearn.preprocessing import OneHotEncoder\n",
    "\n",
    "ct = ColumnTransformer(transformers=[('encoder', OneHotEncoder(), ['Sex', 'Embarked'])], remainder='passthrough')\n",
    "X_test = np.array(ct.fit_transform(X_test))"
   ]
  },
  {
   "cell_type": "code",
   "execution_count": 10,
   "id": "4f7d42b6",
   "metadata": {
    "execution": {
     "iopub.execute_input": "2023-07-04T20:21:04.770262Z",
     "iopub.status.busy": "2023-07-04T20:21:04.769495Z",
     "iopub.status.idle": "2023-07-04T20:21:05.274680Z",
     "shell.execute_reply": "2023-07-04T20:21:05.273626Z"
    },
    "papermill": {
     "duration": 0.512579,
     "end_time": "2023-07-04T20:21:05.277056",
     "exception": false,
     "start_time": "2023-07-04T20:21:04.764477",
     "status": "completed"
    },
    "tags": []
   },
   "outputs": [
    {
     "data": {
      "text/html": [
       "<style>#sk-container-id-1 {color: black;background-color: white;}#sk-container-id-1 pre{padding: 0;}#sk-container-id-1 div.sk-toggleable {background-color: white;}#sk-container-id-1 label.sk-toggleable__label {cursor: pointer;display: block;width: 100%;margin-bottom: 0;padding: 0.3em;box-sizing: border-box;text-align: center;}#sk-container-id-1 label.sk-toggleable__label-arrow:before {content: \"▸\";float: left;margin-right: 0.25em;color: #696969;}#sk-container-id-1 label.sk-toggleable__label-arrow:hover:before {color: black;}#sk-container-id-1 div.sk-estimator:hover label.sk-toggleable__label-arrow:before {color: black;}#sk-container-id-1 div.sk-toggleable__content {max-height: 0;max-width: 0;overflow: hidden;text-align: left;background-color: #f0f8ff;}#sk-container-id-1 div.sk-toggleable__content pre {margin: 0.2em;color: black;border-radius: 0.25em;background-color: #f0f8ff;}#sk-container-id-1 input.sk-toggleable__control:checked~div.sk-toggleable__content {max-height: 200px;max-width: 100%;overflow: auto;}#sk-container-id-1 input.sk-toggleable__control:checked~label.sk-toggleable__label-arrow:before {content: \"▾\";}#sk-container-id-1 div.sk-estimator input.sk-toggleable__control:checked~label.sk-toggleable__label {background-color: #d4ebff;}#sk-container-id-1 div.sk-label input.sk-toggleable__control:checked~label.sk-toggleable__label {background-color: #d4ebff;}#sk-container-id-1 input.sk-hidden--visually {border: 0;clip: rect(1px 1px 1px 1px);clip: rect(1px, 1px, 1px, 1px);height: 1px;margin: -1px;overflow: hidden;padding: 0;position: absolute;width: 1px;}#sk-container-id-1 div.sk-estimator {font-family: monospace;background-color: #f0f8ff;border: 1px dotted black;border-radius: 0.25em;box-sizing: border-box;margin-bottom: 0.5em;}#sk-container-id-1 div.sk-estimator:hover {background-color: #d4ebff;}#sk-container-id-1 div.sk-parallel-item::after {content: \"\";width: 100%;border-bottom: 1px solid gray;flex-grow: 1;}#sk-container-id-1 div.sk-label:hover label.sk-toggleable__label {background-color: #d4ebff;}#sk-container-id-1 div.sk-serial::before {content: \"\";position: absolute;border-left: 1px solid gray;box-sizing: border-box;top: 0;bottom: 0;left: 50%;z-index: 0;}#sk-container-id-1 div.sk-serial {display: flex;flex-direction: column;align-items: center;background-color: white;padding-right: 0.2em;padding-left: 0.2em;position: relative;}#sk-container-id-1 div.sk-item {position: relative;z-index: 1;}#sk-container-id-1 div.sk-parallel {display: flex;align-items: stretch;justify-content: center;background-color: white;position: relative;}#sk-container-id-1 div.sk-item::before, #sk-container-id-1 div.sk-parallel-item::before {content: \"\";position: absolute;border-left: 1px solid gray;box-sizing: border-box;top: 0;bottom: 0;left: 50%;z-index: -1;}#sk-container-id-1 div.sk-parallel-item {display: flex;flex-direction: column;z-index: 1;position: relative;background-color: white;}#sk-container-id-1 div.sk-parallel-item:first-child::after {align-self: flex-end;width: 50%;}#sk-container-id-1 div.sk-parallel-item:last-child::after {align-self: flex-start;width: 50%;}#sk-container-id-1 div.sk-parallel-item:only-child::after {width: 0;}#sk-container-id-1 div.sk-dashed-wrapped {border: 1px dashed gray;margin: 0 0.4em 0.5em 0.4em;box-sizing: border-box;padding-bottom: 0.4em;background-color: white;}#sk-container-id-1 div.sk-label label {font-family: monospace;font-weight: bold;display: inline-block;line-height: 1.2em;}#sk-container-id-1 div.sk-label-container {text-align: center;}#sk-container-id-1 div.sk-container {/* jupyter's `normalize.less` sets `[hidden] { display: none; }` but bootstrap.min.css set `[hidden] { display: none !important; }` so we also need the `!important` here to be able to override the default hidden behavior on the sphinx rendered scikit-learn.org. See: https://github.com/scikit-learn/scikit-learn/issues/21755 */display: inline-block !important;position: relative;}#sk-container-id-1 div.sk-text-repr-fallback {display: none;}</style><div id=\"sk-container-id-1\" class=\"sk-top-container\"><div class=\"sk-text-repr-fallback\"><pre>RandomForestClassifier(criterion=&#x27;entropy&#x27;, n_estimators=10, random_state=0)</pre><b>In a Jupyter environment, please rerun this cell to show the HTML representation or trust the notebook. <br />On GitHub, the HTML representation is unable to render, please try loading this page with nbviewer.org.</b></div><div class=\"sk-container\" hidden><div class=\"sk-item\"><div class=\"sk-estimator sk-toggleable\"><input class=\"sk-toggleable__control sk-hidden--visually\" id=\"sk-estimator-id-1\" type=\"checkbox\" checked><label for=\"sk-estimator-id-1\" class=\"sk-toggleable__label sk-toggleable__label-arrow\">RandomForestClassifier</label><div class=\"sk-toggleable__content\"><pre>RandomForestClassifier(criterion=&#x27;entropy&#x27;, n_estimators=10, random_state=0)</pre></div></div></div></div></div>"
      ],
      "text/plain": [
       "RandomForestClassifier(criterion='entropy', n_estimators=10, random_state=0)"
      ]
     },
     "execution_count": 10,
     "metadata": {},
     "output_type": "execute_result"
    }
   ],
   "source": [
    "from sklearn.ensemble import RandomForestClassifier\n",
    "classifier = RandomForestClassifier(n_estimators = 10, criterion = 'entropy', random_state = 0)\n",
    "classifier.fit(X_train, y_train)"
   ]
  },
  {
   "cell_type": "code",
   "execution_count": 11,
   "id": "6f6eb019",
   "metadata": {
    "execution": {
     "iopub.execute_input": "2023-07-04T20:21:05.287501Z",
     "iopub.status.busy": "2023-07-04T20:21:05.287122Z",
     "iopub.status.idle": "2023-07-04T20:21:05.294196Z",
     "shell.execute_reply": "2023-07-04T20:21:05.293180Z"
    },
    "papermill": {
     "duration": 0.014637,
     "end_time": "2023-07-04T20:21:05.296320",
     "exception": false,
     "start_time": "2023-07-04T20:21:05.281683",
     "status": "completed"
    },
    "tags": []
   },
   "outputs": [],
   "source": [
    "y_pred = classifier.predict(X_test)"
   ]
  },
  {
   "cell_type": "code",
   "execution_count": 12,
   "id": "4c1f19f8",
   "metadata": {
    "execution": {
     "iopub.execute_input": "2023-07-04T20:21:05.307053Z",
     "iopub.status.busy": "2023-07-04T20:21:05.306066Z",
     "iopub.status.idle": "2023-07-04T20:21:05.315958Z",
     "shell.execute_reply": "2023-07-04T20:21:05.314778Z"
    },
    "papermill": {
     "duration": 0.018578,
     "end_time": "2023-07-04T20:21:05.319178",
     "exception": false,
     "start_time": "2023-07-04T20:21:05.300600",
     "status": "completed"
    },
    "tags": []
   },
   "outputs": [
    {
     "name": "stdout",
     "output_type": "stream",
     "text": [
      "83.39\n"
     ]
    }
   ],
   "source": [
    "acc=round(classifier.score(X_train,y_train)*100,2)\n",
    "print(acc)"
   ]
  },
  {
   "cell_type": "code",
   "execution_count": 13,
   "id": "293d9c62",
   "metadata": {
    "execution": {
     "iopub.execute_input": "2023-07-04T20:21:05.329540Z",
     "iopub.status.busy": "2023-07-04T20:21:05.329156Z",
     "iopub.status.idle": "2023-07-04T20:21:05.341348Z",
     "shell.execute_reply": "2023-07-04T20:21:05.340264Z"
    },
    "papermill": {
     "duration": 0.020103,
     "end_time": "2023-07-04T20:21:05.343465",
     "exception": false,
     "start_time": "2023-07-04T20:21:05.323362",
     "status": "completed"
    },
    "tags": []
   },
   "outputs": [
    {
     "name": "stdout",
     "output_type": "stream",
     "text": [
      "End\n"
     ]
    }
   ],
   "source": [
    "output=pd.DataFrame({'PassengerId':test.PassengerId,'Survived':y_pred})\n",
    "output.to_csv('result.csv',index=False)\n",
    "print(\"End\")"
   ]
  }
 ],
 "metadata": {
  "kernelspec": {
   "display_name": "Python 3",
   "language": "python",
   "name": "python3"
  },
  "language_info": {
   "codemirror_mode": {
    "name": "ipython",
    "version": 3
   },
   "file_extension": ".py",
   "mimetype": "text/x-python",
   "name": "python",
   "nbconvert_exporter": "python",
   "pygments_lexer": "ipython3",
   "version": "3.10.10"
  },
  "papermill": {
   "default_parameters": {},
   "duration": 13.274443,
   "end_time": "2023-07-04T20:21:06.269669",
   "environment_variables": {},
   "exception": null,
   "input_path": "__notebook__.ipynb",
   "output_path": "__notebook__.ipynb",
   "parameters": {},
   "start_time": "2023-07-04T20:20:52.995226",
   "version": "2.4.0"
  }
 },
 "nbformat": 4,
 "nbformat_minor": 5
}
